{
 "cells": [
  {
   "cell_type": "code",
   "execution_count": 1,
   "metadata": {},
   "outputs": [
    {
     "name": "stdout",
     "output_type": "stream",
     "text": [
      "ERobot: panda (by Franka Emika), 7 joints (RRRRRRR), geometry, collision\n",
      "┌───┬──────────────┬───────┬─────────────┬─────────────────────────────────────────────────────────────────────────────┐\n",
      "│id │     link     │ joint │   parent    │                                     ETS                                     │\n",
      "├───┼──────────────┼───────┼─────────────┼─────────────────────────────────────────────────────────────────────────────┤\n",
      "│ 1 │ panda_link0  │       │ BASE        │ {panda_link0} = {BASE}                                                      │\n",
      "│ 2 │ panda_link1  │     0 │ panda_link0 │ {panda_link1} = {panda_link0} ⊕ tz(0.333) ⊕ Rz(q0)                          │\n",
      "│ 3 │ panda_link2  │     1 │ panda_link1 │ {panda_link2} = {panda_link1} ⊕ Rx(-90°) ⊕ Rz(q1)                           │\n",
      "│ 4 │ panda_link3  │     2 │ panda_link2 │ {panda_link3} = {panda_link2} ⊕ ty(-0.316) ⊕ Rx(90°) ⊕ Rz(q2)               │\n",
      "│ 5 │ panda_link4  │     3 │ panda_link3 │ {panda_link4} = {panda_link3} ⊕ tx(0.0825) ⊕ Rx(90°) ⊕ Rz(q3)               │\n",
      "│ 6 │ panda_link5  │     4 │ panda_link4 │ {panda_link5} = {panda_link4} ⊕ tx(-0.0825) ⊕ ty(0.384) ⊕ Rx(-90°) ⊕ Rz(q4) │\n",
      "│ 7 │ panda_link6  │     5 │ panda_link5 │ {panda_link6} = {panda_link5} ⊕ Rx(90°) ⊕ Rz(q5)                            │\n",
      "│ 8 │ panda_link7  │     6 │ panda_link6 │ {panda_link7} = {panda_link6} ⊕ tx(0.088) ⊕ Rx(90°) ⊕ Rz(q6)                │\n",
      "│ 9 │ @panda_link8 │       │ panda_link7 │ {panda_link8} = {panda_link7} ⊕ tz(0.107)                                   │\n",
      "└───┴──────────────┴───────┴─────────────┴─────────────────────────────────────────────────────────────────────────────┘\n",
      "\n",
      "┌─────┬─────┬────────┬─────┬───────┬─────┬───────┬──────┐\n",
      "│name │ q0  │ q1     │ q2  │ q3    │ q4  │ q5    │ q6   │\n",
      "├─────┼─────┼────────┼─────┼───────┼─────┼───────┼──────┤\n",
      "│  qz │  0° │  0°    │  0° │  0°   │  0° │  0°   │  0°  │\n",
      "│  qr │  0° │ -17.2° │  0° │ -126° │  0° │  115° │  45° │\n",
      "└─────┴─────┴────────┴─────┴───────┴─────┴───────┴──────┘\n",
      "\n",
      "IKsolution(q=array([ 0.21874231,  1.86740406, -0.20753353,  0.48269502,  0.20151694,  1.39439285, -2.04015069]), success=True, reason=None, iterations=12, residual=2.6356265414905435e-11)\n",
      "  -1         9.245e-14  1.055e-12  0.7       \n",
      "   9.236e-14  1         3.048e-13  0.2       \n",
      "  -1.055e-12  3.048e-13 -1         0.1       \n",
      "   0         0         0         1         \n",
      "\n"
     ]
    }
   ],
   "source": [
    "import roboticstoolbox as rtb\n",
    "from roboticstoolbox.tools.urdf import URDF\n",
    "\n",
    "  # load URDF version of the Panda\n",
    "print(robot)    # display the model\n",
    "URDF.load()\n",
    "from spatialmath import SE3\n",
    "\n",
    "T = SE3(0.7, 0.2, 0.1) * SE3.OA([0, 1, 0], [0, 0, -1])\n",
    "sol = robot.ikine_LM(T)         # solve IK\n",
    "print(sol)\n",
    "\n",
    "q_pickup = sol.q\n",
    "print(robot.fkine(q_pickup))    # FK shows that desired end-effector pose was achieved\n",
    "\n",
    "qt = rtb.jtraj(robot.qz, q_pickup, 50)"
   ]
  },
  {
   "cell_type": "code",
   "execution_count": 5,
   "metadata": {},
   "outputs": [
    {
     "ename": "KeyError",
     "evalue": "'solid_2'",
     "output_type": "error",
     "traceback": [
      "\u001b[1;31m---------------------------------------------------------------------------\u001b[0m",
      "\u001b[1;31mKeyError\u001b[0m                                  Traceback (most recent call last)",
      "Input \u001b[1;32mIn [5]\u001b[0m, in \u001b[0;36m<module>\u001b[1;34m\u001b[0m\n\u001b[0;32m      1\u001b[0m \u001b[38;5;28;01mimport\u001b[39;00m \u001b[38;5;21;01mroboticstoolbox\u001b[39;00m \u001b[38;5;28;01mas\u001b[39;00m \u001b[38;5;21;01mrtb\u001b[39;00m\n\u001b[0;32m      2\u001b[0m \u001b[38;5;28;01mfrom\u001b[39;00m \u001b[38;5;21;01mroboticstoolbox\u001b[39;00m\u001b[38;5;21;01m.\u001b[39;00m\u001b[38;5;21;01mtools\u001b[39;00m\u001b[38;5;21;01m.\u001b[39;00m\u001b[38;5;21;01murdf\u001b[39;00m \u001b[38;5;28;01mimport\u001b[39;00m URDF\n\u001b[1;32m----> 4\u001b[0m \u001b[43mURDF\u001b[49m\u001b[38;5;241;43m.\u001b[39;49m\u001b[43mload\u001b[49m\u001b[43m(\u001b[49m\u001b[38;5;124;43m'\u001b[39;49m\u001b[38;5;124;43m../../../../SpotSim/URDF/spot-front-left.urdf\u001b[39;49m\u001b[38;5;124;43m'\u001b[39;49m\u001b[43m)\u001b[49m\n",
      "File \u001b[1;32m~\\.pyenv\\pyenv-win\\versions\\3.9.6\\lib\\site-packages\\roboticstoolbox\\tools\\urdf\\urdf.py:1895\u001b[0m, in \u001b[0;36mURDF.load\u001b[1;34m(file_obj)\u001b[0m\n\u001b[0;32m   1892\u001b[0m     path, _ \u001b[38;5;241m=\u001b[39m os\u001b[38;5;241m.\u001b[39mpath\u001b[38;5;241m.\u001b[39msplit(file_obj\u001b[38;5;241m.\u001b[39mname)\n\u001b[0;32m   1894\u001b[0m node \u001b[38;5;241m=\u001b[39m tree\u001b[38;5;241m.\u001b[39mgetroot()\n\u001b[1;32m-> 1895\u001b[0m \u001b[38;5;28;01mreturn\u001b[39;00m \u001b[43mURDF\u001b[49m\u001b[38;5;241;43m.\u001b[39;49m\u001b[43m_from_xml\u001b[49m\u001b[43m(\u001b[49m\u001b[43mnode\u001b[49m\u001b[43m,\u001b[49m\u001b[43m \u001b[49m\u001b[43mpath\u001b[49m\u001b[43m)\u001b[49m\n",
      "File \u001b[1;32m~\\.pyenv\\pyenv-win\\versions\\3.9.6\\lib\\site-packages\\roboticstoolbox\\tools\\urdf\\urdf.py:1952\u001b[0m, in \u001b[0;36mURDF._from_xml\u001b[1;34m(cls, node, path)\u001b[0m\n\u001b[0;32m   1948\u001b[0m         extra_xml_node\u001b[38;5;241m.\u001b[39mappend(child)\n\u001b[0;32m   1950\u001b[0m \u001b[38;5;66;03m# data = ET.ostring(extra_xml_node)\u001b[39;00m\n\u001b[0;32m   1951\u001b[0m \u001b[38;5;66;03m# kwargs['other_xml'] = data\u001b[39;00m\n\u001b[1;32m-> 1952\u001b[0m \u001b[38;5;28;01mreturn\u001b[39;00m URDF(\u001b[38;5;241m*\u001b[39m\u001b[38;5;241m*\u001b[39mkwargs)\n",
      "File \u001b[1;32m~\\.pyenv\\pyenv-win\\versions\\3.9.6\\lib\\site-packages\\roboticstoolbox\\tools\\urdf\\urdf.py:1683\u001b[0m, in \u001b[0;36mURDF.__init__\u001b[1;34m(self, name, links, joints, transmissions, materials, other_xml)\u001b[0m\n\u001b[0;32m   1680\u001b[0m \u001b[38;5;66;03m# connect the links using joint info\u001b[39;00m\n\u001b[0;32m   1681\u001b[0m \u001b[38;5;28;01mfor\u001b[39;00m joint \u001b[38;5;129;01min\u001b[39;00m \u001b[38;5;28mself\u001b[39m\u001b[38;5;241m.\u001b[39m_joints:\n\u001b[0;32m   1682\u001b[0m     \u001b[38;5;66;03m# get references to joint's parent and child\u001b[39;00m\n\u001b[1;32m-> 1683\u001b[0m     childlink \u001b[38;5;241m=\u001b[39m \u001b[43melinkdict\u001b[49m\u001b[43m[\u001b[49m\u001b[43mjoint\u001b[49m\u001b[38;5;241;43m.\u001b[39;49m\u001b[43mchild\u001b[49m\u001b[43m]\u001b[49m\n\u001b[0;32m   1684\u001b[0m     parentlink \u001b[38;5;241m=\u001b[39m elinkdict[joint\u001b[38;5;241m.\u001b[39mparent]\n\u001b[0;32m   1686\u001b[0m     childlink\u001b[38;5;241m.\u001b[39m_parent \u001b[38;5;241m=\u001b[39m parentlink  \u001b[38;5;66;03m# connect child link to parent\u001b[39;00m\n",
      "\u001b[1;31mKeyError\u001b[0m: 'solid_2'"
     ]
    }
   ],
   "source": [
    "import roboticstoolbox as rtb\n",
    "from roboticstoolbox.tools.urdf import URDF\n",
    "\n",
    "URDF.load('../../../../SpotSim/URDF/spot-front-left.urdf')"
   ]
  }
 ],
 "metadata": {
  "interpreter": {
   "hash": "3996247c07feb53000dc0bd00d7142a2d80fc6e723ab2627757a34a5f3b23987"
  },
  "kernelspec": {
   "display_name": "Python 3.9.6 64-bit ('3.9.6': pyenv)",
   "language": "python",
   "name": "python3"
  },
  "language_info": {
   "codemirror_mode": {
    "name": "ipython",
    "version": 3
   },
   "file_extension": ".py",
   "mimetype": "text/x-python",
   "name": "python",
   "nbconvert_exporter": "python",
   "pygments_lexer": "ipython3",
   "version": "3.9.6"
  },
  "orig_nbformat": 4
 },
 "nbformat": 4,
 "nbformat_minor": 2
}
